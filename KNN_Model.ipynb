{
  "nbformat": 4,
  "nbformat_minor": 0,
  "metadata": {
    "colab": {
      "provenance": [],
      "toc_visible": true
    },
    "kernelspec": {
      "name": "python3",
      "display_name": "Python 3"
    },
    "language_info": {
      "name": "python"
    }
  },
  "cells": [
    {
      "cell_type": "markdown",
      "metadata": {
        "id": "view-in-github"
      },
      "source": [
        "<a href=\"https://colab.research.google.com/github/dhivyasreedhar/Music-Instrument-Recognition/blob/main/knn.ipynb\" target=\"_parent\"><img src=\"https://colab.research.google.com/assets/colab-badge.svg\" alt=\"Open In Colab\"/></a>"
      ]
    },
    {
      "cell_type": "code",
      "metadata": {
        "id": "428UfAdV1UV9",
        "colab": {
          "base_uri": "https://localhost:8080/"
        },
        "outputId": "61b4984a-e3a3-4bcf-a1ce-f5f612477732"
      },
      "source": [
        "from google.colab import drive\n",
        "drive.mount('/content/drive')\n",
        "\n",
        "path = f'/content/drive/My Drive/deep-learning/Project/Code/data/'"
      ],
      "execution_count": null,
      "outputs": [
        {
          "output_type": "stream",
          "name": "stdout",
          "text": [
            "Mounted at /content/drive\n"
          ]
        }
      ]
    },
    {
      "cell_type": "code",
      "metadata": {
        "id": "xfiYR5_P1qS2"
      },
      "source": [
        "#!pip install librosa==0.9.1\n",
        "import librosa\n",
        "import os,fnmatch\n",
        "import numpy as np\n",
        "import pandas as pd\n",
        "\n",
        "import librosa.display\n",
        "import IPython.display as ipd\n",
        "\n",
        "\n",
        "\n",
        "import matplotlib.pyplot as plt\n",
        "from sklearn.preprocessing import LabelEncoder\n",
        "from sklearn.preprocessing import StandardScaler\n",
        "from sklearn.model_selection import StratifiedShuffleSplit\n",
        "from sklearn.neighbors import KNeighborsClassifier\n",
        "from sklearn.metrics import recall_score, precision_score, accuracy_score\n",
        "from sklearn.metrics import confusion_matrix, f1_score, classification_report"
      ],
      "execution_count": null,
      "outputs": []
    },
    {
      "cell_type": "code",
      "metadata": {
        "id": "B10IOiJFLTqo"
      },
      "source": [
        "import warnings\n",
        "warnings.filterwarnings('ignore')"
      ],
      "execution_count": null,
      "outputs": []
    },
    {
      "cell_type": "code",
      "metadata": {
        "colab": {
          "base_uri": "https://localhost:8080/"
        },
        "id": "9dJXD8BsCWX7",
        "outputId": "9a9c0960-020c-4531-c524-59eca0712b41"
      },
      "source": [
        "files = []\n",
        "for root, dirnames, filenames in os.walk(path):\n",
        "    for filename in fnmatch.filter(filenames, '*.wav'):\n",
        "        files.append(os.path.join(root, filename))\n",
        "\n",
        "print(\"found %d audio files in %s\"%(len(files),path))"
      ],
      "execution_count": null,
      "outputs": [
        {
          "output_type": "stream",
          "name": "stdout",
          "text": [
            "found 4000 audio files in /content/drive/My Drive/deep-learning/Project/Code/data/\n"
          ]
        }
      ]
    },
    {
      "cell_type": "code",
      "metadata": {
        "id": "2sjtB42qCgmN",
        "colab": {
          "base_uri": "https://localhost:8080/",
          "height": 217
        },
        "outputId": "03713b44-8f61-4cd8-8a44-ce03c663406f"
      },
      "source": [
        "# Get Labels\n",
        "\n",
        "labels = []\n",
        "classes = [\n",
        "    'sitar',\n",
        "    'tabla',\n",
        "    'harmonium',\n",
        "    'bansuri',\n",
        "    'sitartabla',\n",
        "    'sitarharmonium',\n",
        "    'sitarbansuri',\n",
        "    'tablaharmonium',\n",
        "    'tablabansuri',\n",
        "    'harmoniumbansuri',\n",
        "    'sitartablaharmonium',\n",
        "    'sitartablabansuri',\n",
        "    'sitarharmoniumbansuri',\n",
        "    'tablaharmoniumbansuri',\n",
        "    'sitartablaharmoniumbansuri'\n",
        "]\n",
        "color_dict = {\n",
        "    'sitar': 'blue',\n",
        "    'tabla': 'red',\n",
        "    'harmonium': 'green',\n",
        "    'bansuri': 'black',\n",
        "    'sitartabla': 'magenta',\n",
        "    'sitarharmonium': 'yellow',\n",
        "    'sitarbansuri': 'cyan',\n",
        "    'tablaharmonium': 'orange',\n",
        "    'tablabansuri': 'purple',\n",
        "    'harmoniumbansuri': 'brown',\n",
        "    'sitartablaharmonium': 'pink',\n",
        "    'sitartablabansuri': 'gray',\n",
        "    'sitarharmoniumbansuri': 'olive',\n",
        "    'tablaharmoniumbansuri': 'lime',\n",
        "    'sitartablaharmoniumbansuri': 'teal'\n",
        "}\n",
        "color_list = []\n",
        "\n",
        "for file_path in files:\n",
        "    folder_name = os.path.basename(os.path.dirname(file_path))\n",
        "\n",
        "    labels.append(folder_name)\n",
        "    color_list.append(color_dict[folder_name])\n"
      ],
      "execution_count": null,
      "outputs": [
        {
          "output_type": "error",
          "ename": "KeyError",
          "evalue": "ignored",
          "traceback": [
            "\u001b[0;31m---------------------------------------------------------------------------\u001b[0m",
            "\u001b[0;31mKeyError\u001b[0m                                  Traceback (most recent call last)",
            "\u001b[0;32m<ipython-input-5-c5058d24bff8>\u001b[0m in \u001b[0;36m<cell line: 40>\u001b[0;34m()\u001b[0m\n\u001b[1;32m     42\u001b[0m \u001b[0;34m\u001b[0m\u001b[0m\n\u001b[1;32m     43\u001b[0m     \u001b[0mlabels\u001b[0m\u001b[0;34m.\u001b[0m\u001b[0mappend\u001b[0m\u001b[0;34m(\u001b[0m\u001b[0mfolder_name\u001b[0m\u001b[0;34m)\u001b[0m\u001b[0;34m\u001b[0m\u001b[0;34m\u001b[0m\u001b[0m\n\u001b[0;32m---> 44\u001b[0;31m     \u001b[0mcolor_list\u001b[0m\u001b[0;34m.\u001b[0m\u001b[0mappend\u001b[0m\u001b[0;34m(\u001b[0m\u001b[0mcolor_dict\u001b[0m\u001b[0;34m[\u001b[0m\u001b[0mfolder_name\u001b[0m\u001b[0;34m]\u001b[0m\u001b[0;34m)\u001b[0m\u001b[0;34m\u001b[0m\u001b[0;34m\u001b[0m\u001b[0m\n\u001b[0m",
            "\u001b[0;31mKeyError\u001b[0m: 'harmonium-bansuri'"
          ]
        }
      ]
    },
    {
      "cell_type": "code",
      "metadata": {
        "colab": {
          "base_uri": "https://localhost:8080/"
        },
        "id": "m_ooE9v8ClGG",
        "outputId": "3fb66704-aa82-49e2-fad3-425ef5039fb2"
      },
      "source": [
        "# Encode Labels\n",
        "labelencoder = LabelEncoder()\n",
        "labelencoder.fit(labels)\n",
        "print(len(labelencoder.classes_), \"classes:\", \", \".join(list(labelencoder.classes_)))\n",
        "classes_num = labelencoder.transform(labels)\n",
        "\n",
        "print(classes_num)"
      ],
      "execution_count": null,
      "outputs": [
        {
          "output_type": "stream",
          "name": "stdout",
          "text": [
            "15 classes: bansuri, harmonium, harmoniumbansuri, sitar, sitarbansuri, sitarharmonium, sitarharmoniumbansuri, sitartabla, sitartablabansuri, sitartablaharmonium, sitartablaharmoniumbansuri, tabla, tablabansuri, tablaharmonium, tablaharmoniumbansuri\n",
            "[11 11 11 ...  3  3  3]\n"
          ]
        }
      ]
    },
    {
      "cell_type": "code",
      "metadata": {
        "id": "-QjcB_LCCou4"
      },
      "source": [
        "# Parameters\n",
        "# Signal Processing Parameters\n",
        "fs = 44100         # Sampling Frequency\n",
        "n_fft = 2048       # length of the FFT window\n",
        "hop_length = 512   # Number of samples between successive frames\n",
        "n_mels = 128       # Number of Mel bands\n",
        "n_mfcc = 13        # Number of MFCCs\n",
        "\n",
        "# Machine Learning Parameters\n",
        "testset_size = 0.25 #Percentage of data for Testing\n",
        "n_neighbors=1       # Number of neighbors for kNN Classifier"
      ],
      "execution_count": null,
      "outputs": []
    },
    {
      "cell_type": "code",
      "metadata": {
        "id": "80wooKmrK08P"
      },
      "source": [
        "# Define Function to Calculate MFCC, Delta_MFCC and Delta2_MFCC\n",
        "def get_features(y, sr=fs):\n",
        "    S = librosa.feature.melspectrogram(y, sr=fs, n_mels=n_mels)\n",
        "    mfcc = librosa.feature.mfcc(S=librosa.power_to_db(S), n_mfcc=n_mfcc)\n",
        "    feature_vector = np.mean(mfcc,1)\n",
        "    #feature_vector = (feature_vector-np.mean(feature_vector))/np.std(feature_vector)\n",
        "    return feature_vector"
      ],
      "execution_count": null,
      "outputs": []
    },
    {
      "cell_type": "code",
      "metadata": {
        "colab": {
          "base_uri": "https://localhost:8080/",
          "height": 1000
        },
        "id": "LD307wJtK74W",
        "outputId": "57016fed-e0a7-40fc-8f0a-6d014f427e40"
      },
      "source": [
        "# Load audio files, calculate features and create feature vectors\n",
        "\n",
        "feature_vectors = []\n",
        "sound_paths = []\n",
        "errors = []\n",
        "for i,f in enumerate(files):\n",
        "    print (\"get %d of %d = %s\"%(i+1, len(files), f))\n",
        "    try:\n",
        "        y, sr = librosa.load(f, sr=fs)\n",
        "        y/=y.max() #Normalize\n",
        "        if len(y) < 2:\n",
        "            print(\"Error loading %s\" % f)\n",
        "            continue\n",
        "        feat = get_features(y, sr)\n",
        "        #feature_vectors.append(feat)\n",
        "        #sound_paths.append(f)\n",
        "    except Exception as e:\n",
        "        print(\"Error loading %s. Error: %s\" % (f,e))\n",
        "        classes_num[i-1] = -1\n",
        "\n",
        "print(\"Calculated %d feature vectors\"%len(feature_vectors))"
      ],
      "execution_count": null,
      "outputs": [
        {
          "output_type": "stream",
          "name": "stdout",
          "text": [
            "get 1 of 8625 = /content/drive/My Drive/deep-learning/Project/Code/data/tabla/clip_24.wav\n",
            "get 2 of 8625 = /content/drive/My Drive/deep-learning/Project/Code/data/tabla/clip_8.wav\n",
            "get 3 of 8625 = /content/drive/My Drive/deep-learning/Project/Code/data/tabla/clip_0.wav\n",
            "get 4 of 8625 = /content/drive/My Drive/deep-learning/Project/Code/data/tabla/clip_18.wav\n",
            "get 5 of 8625 = /content/drive/My Drive/deep-learning/Project/Code/data/tabla/clip_15.wav\n",
            "get 6 of 8625 = /content/drive/My Drive/deep-learning/Project/Code/data/tabla/clip_3.wav\n",
            "get 7 of 8625 = /content/drive/My Drive/deep-learning/Project/Code/data/tabla/clip_11.wav\n",
            "get 8 of 8625 = /content/drive/My Drive/deep-learning/Project/Code/data/tabla/clip_22.wav\n",
            "get 9 of 8625 = /content/drive/My Drive/deep-learning/Project/Code/data/tabla/clip_21.wav\n",
            "get 10 of 8625 = /content/drive/My Drive/deep-learning/Project/Code/data/tabla/clip_2.wav\n",
            "get 11 of 8625 = /content/drive/My Drive/deep-learning/Project/Code/data/tabla/clip_17.wav\n",
            "get 12 of 8625 = /content/drive/My Drive/deep-learning/Project/Code/data/tabla/clip_6.wav\n",
            "get 13 of 8625 = /content/drive/My Drive/deep-learning/Project/Code/data/tabla/clip_10.wav\n",
            "get 14 of 8625 = /content/drive/My Drive/deep-learning/Project/Code/data/tabla/clip_16.wav\n",
            "get 15 of 8625 = /content/drive/My Drive/deep-learning/Project/Code/data/tabla/clip_4.wav\n",
            "get 16 of 8625 = /content/drive/My Drive/deep-learning/Project/Code/data/tabla/clip_14.wav\n",
            "get 17 of 8625 = /content/drive/My Drive/deep-learning/Project/Code/data/tabla/clip_7.wav\n",
            "get 18 of 8625 = /content/drive/My Drive/deep-learning/Project/Code/data/tabla/clip_1.wav\n",
            "get 19 of 8625 = /content/drive/My Drive/deep-learning/Project/Code/data/tabla/clip_19.wav\n",
            "get 20 of 8625 = /content/drive/My Drive/deep-learning/Project/Code/data/tabla/clip_5.wav\n",
            "get 21 of 8625 = /content/drive/My Drive/deep-learning/Project/Code/data/tabla/clip_23.wav\n",
            "get 22 of 8625 = /content/drive/My Drive/deep-learning/Project/Code/data/tabla/clip_12.wav\n",
            "get 23 of 8625 = /content/drive/My Drive/deep-learning/Project/Code/data/tabla/clip_13.wav\n",
            "get 24 of 8625 = /content/drive/My Drive/deep-learning/Project/Code/data/tabla/clip_20.wav\n",
            "get 25 of 8625 = /content/drive/My Drive/deep-learning/Project/Code/data/tabla/clip_9.wav\n",
            "get 26 of 8625 = /content/drive/My Drive/deep-learning/Project/Code/data/tabla/clip_102.wav\n",
            "get 27 of 8625 = /content/drive/My Drive/deep-learning/Project/Code/data/tabla/clip_89.wav\n",
            "get 28 of 8625 = /content/drive/My Drive/deep-learning/Project/Code/data/tabla/clip_82.wav\n",
            "get 29 of 8625 = /content/drive/My Drive/deep-learning/Project/Code/data/tabla/clip_34.wav\n",
            "get 30 of 8625 = /content/drive/My Drive/deep-learning/Project/Code/data/tabla/clip_107.wav\n",
            "get 31 of 8625 = /content/drive/My Drive/deep-learning/Project/Code/data/tabla/clip_78.wav\n",
            "get 32 of 8625 = /content/drive/My Drive/deep-learning/Project/Code/data/tabla/clip_74.wav\n",
            "get 33 of 8625 = /content/drive/My Drive/deep-learning/Project/Code/data/tabla/clip_68.wav\n",
            "get 34 of 8625 = /content/drive/My Drive/deep-learning/Project/Code/data/tabla/clip_56.wav\n",
            "get 35 of 8625 = /content/drive/My Drive/deep-learning/Project/Code/data/tabla/clip_39.wav\n",
            "get 36 of 8625 = /content/drive/My Drive/deep-learning/Project/Code/data/tabla/clip_99.wav\n",
            "get 37 of 8625 = /content/drive/My Drive/deep-learning/Project/Code/data/tabla/clip_55.wav\n",
            "get 38 of 8625 = /content/drive/My Drive/deep-learning/Project/Code/data/tabla/clip_83.wav\n",
            "get 39 of 8625 = /content/drive/My Drive/deep-learning/Project/Code/data/tabla/clip_96.wav\n",
            "get 40 of 8625 = /content/drive/My Drive/deep-learning/Project/Code/data/tabla/clip_46.wav\n",
            "get 41 of 8625 = /content/drive/My Drive/deep-learning/Project/Code/data/tabla/clip_59.wav\n",
            "get 42 of 8625 = /content/drive/My Drive/deep-learning/Project/Code/data/tabla/clip_29.wav\n",
            "get 43 of 8625 = /content/drive/My Drive/deep-learning/Project/Code/data/tabla/clip_127.wav\n",
            "get 44 of 8625 = /content/drive/My Drive/deep-learning/Project/Code/data/tabla/clip_62.wav\n",
            "get 45 of 8625 = /content/drive/My Drive/deep-learning/Project/Code/data/tabla/clip_118.wav\n",
            "get 46 of 8625 = /content/drive/My Drive/deep-learning/Project/Code/data/tabla/clip_42.wav\n",
            "get 47 of 8625 = /content/drive/My Drive/deep-learning/Project/Code/data/tabla/clip_63.wav\n",
            "get 48 of 8625 = /content/drive/My Drive/deep-learning/Project/Code/data/tabla/clip_36.wav\n",
            "get 49 of 8625 = /content/drive/My Drive/deep-learning/Project/Code/data/tabla/clip_64.wav\n",
            "get 50 of 8625 = /content/drive/My Drive/deep-learning/Project/Code/data/tabla/clip_58.wav\n",
            "get 51 of 8625 = /content/drive/My Drive/deep-learning/Project/Code/data/tabla/clip_43.wav\n",
            "get 52 of 8625 = /content/drive/My Drive/deep-learning/Project/Code/data/tabla/clip_40.wav\n",
            "get 53 of 8625 = /content/drive/My Drive/deep-learning/Project/Code/data/tabla/clip_109.wav\n",
            "get 54 of 8625 = /content/drive/My Drive/deep-learning/Project/Code/data/tabla/clip_51.wav\n",
            "get 55 of 8625 = /content/drive/My Drive/deep-learning/Project/Code/data/tabla/clip_57.wav\n",
            "get 56 of 8625 = /content/drive/My Drive/deep-learning/Project/Code/data/tabla/clip_47.wav\n",
            "get 57 of 8625 = /content/drive/My Drive/deep-learning/Project/Code/data/tabla/clip_87.wav\n",
            "get 58 of 8625 = /content/drive/My Drive/deep-learning/Project/Code/data/tabla/clip_49.wav\n",
            "get 59 of 8625 = /content/drive/My Drive/deep-learning/Project/Code/data/tabla/clip_30.wav\n",
            "get 60 of 8625 = /content/drive/My Drive/deep-learning/Project/Code/data/tabla/clip_28.wav\n",
            "get 61 of 8625 = /content/drive/My Drive/deep-learning/Project/Code/data/tabla/clip_111.wav\n",
            "get 62 of 8625 = /content/drive/My Drive/deep-learning/Project/Code/data/tabla/clip_85.wav\n",
            "get 63 of 8625 = /content/drive/My Drive/deep-learning/Project/Code/data/tabla/clip_94.wav\n",
            "get 64 of 8625 = /content/drive/My Drive/deep-learning/Project/Code/data/tabla/clip_75.wav\n",
            "get 65 of 8625 = /content/drive/My Drive/deep-learning/Project/Code/data/tabla/clip_41.wav\n",
            "get 66 of 8625 = /content/drive/My Drive/deep-learning/Project/Code/data/tabla/clip_60.wav\n",
            "get 67 of 8625 = /content/drive/My Drive/deep-learning/Project/Code/data/tabla/clip_95.wav\n",
            "get 68 of 8625 = /content/drive/My Drive/deep-learning/Project/Code/data/tabla/clip_110.wav\n",
            "get 69 of 8625 = /content/drive/My Drive/deep-learning/Project/Code/data/tabla/clip_123.wav\n",
            "get 70 of 8625 = /content/drive/My Drive/deep-learning/Project/Code/data/tabla/clip_90.wav\n",
            "get 71 of 8625 = /content/drive/My Drive/deep-learning/Project/Code/data/tabla/clip_77.wav\n",
            "get 72 of 8625 = /content/drive/My Drive/deep-learning/Project/Code/data/tabla/clip_119.wav\n",
            "get 73 of 8625 = /content/drive/My Drive/deep-learning/Project/Code/data/tabla/clip_66.wav\n",
            "get 74 of 8625 = /content/drive/My Drive/deep-learning/Project/Code/data/tabla/clip_98.wav\n",
            "get 75 of 8625 = /content/drive/My Drive/deep-learning/Project/Code/data/tabla/clip_103.wav\n",
            "get 76 of 8625 = /content/drive/My Drive/deep-learning/Project/Code/data/tabla/clip_25.wav\n",
            "get 77 of 8625 = /content/drive/My Drive/deep-learning/Project/Code/data/tabla/clip_86.wav\n",
            "get 78 of 8625 = /content/drive/My Drive/deep-learning/Project/Code/data/tabla/clip_84.wav\n",
            "get 79 of 8625 = /content/drive/My Drive/deep-learning/Project/Code/data/tabla/clip_65.wav\n",
            "get 80 of 8625 = /content/drive/My Drive/deep-learning/Project/Code/data/tabla/clip_32.wav\n",
            "get 81 of 8625 = /content/drive/My Drive/deep-learning/Project/Code/data/tabla/clip_53.wav\n",
            "get 82 of 8625 = /content/drive/My Drive/deep-learning/Project/Code/data/tabla/clip_105.wav\n",
            "get 83 of 8625 = /content/drive/My Drive/deep-learning/Project/Code/data/tabla/clip_116.wav\n",
            "get 84 of 8625 = /content/drive/My Drive/deep-learning/Project/Code/data/tabla/clip_113.wav\n",
            "get 85 of 8625 = /content/drive/My Drive/deep-learning/Project/Code/data/tabla/clip_125.wav\n",
            "get 86 of 8625 = /content/drive/My Drive/deep-learning/Project/Code/data/tabla/clip_69.wav\n",
            "get 87 of 8625 = /content/drive/My Drive/deep-learning/Project/Code/data/tabla/clip_117.wav\n",
            "get 88 of 8625 = /content/drive/My Drive/deep-learning/Project/Code/data/tabla/clip_88.wav\n",
            "get 89 of 8625 = /content/drive/My Drive/deep-learning/Project/Code/data/tabla/clip_101.wav\n",
            "get 90 of 8625 = /content/drive/My Drive/deep-learning/Project/Code/data/tabla/clip_35.wav\n",
            "get 91 of 8625 = /content/drive/My Drive/deep-learning/Project/Code/data/tabla/clip_115.wav\n",
            "get 92 of 8625 = /content/drive/My Drive/deep-learning/Project/Code/data/tabla/clip_121.wav\n",
            "get 93 of 8625 = /content/drive/My Drive/deep-learning/Project/Code/data/tabla/clip_80.wav\n",
            "get 94 of 8625 = /content/drive/My Drive/deep-learning/Project/Code/data/tabla/clip_73.wav\n",
            "get 95 of 8625 = /content/drive/My Drive/deep-learning/Project/Code/data/tabla/clip_70.wav\n",
            "get 96 of 8625 = /content/drive/My Drive/deep-learning/Project/Code/data/tabla/clip_108.wav\n",
            "get 97 of 8625 = /content/drive/My Drive/deep-learning/Project/Code/data/tabla/clip_92.wav\n",
            "get 98 of 8625 = /content/drive/My Drive/deep-learning/Project/Code/data/tabla/clip_97.wav\n",
            "get 99 of 8625 = /content/drive/My Drive/deep-learning/Project/Code/data/tabla/clip_61.wav\n",
            "get 100 of 8625 = /content/drive/My Drive/deep-learning/Project/Code/data/tabla/clip_26.wav\n",
            "get 101 of 8625 = /content/drive/My Drive/deep-learning/Project/Code/data/tabla/clip_100.wav\n",
            "get 102 of 8625 = /content/drive/My Drive/deep-learning/Project/Code/data/tabla/clip_67.wav\n",
            "get 103 of 8625 = /content/drive/My Drive/deep-learning/Project/Code/data/tabla/clip_50.wav\n",
            "get 104 of 8625 = /content/drive/My Drive/deep-learning/Project/Code/data/tabla/clip_54.wav\n",
            "get 105 of 8625 = /content/drive/My Drive/deep-learning/Project/Code/data/tabla/clip_81.wav\n",
            "get 106 of 8625 = /content/drive/My Drive/deep-learning/Project/Code/data/tabla/clip_48.wav\n",
            "get 107 of 8625 = /content/drive/My Drive/deep-learning/Project/Code/data/tabla/clip_79.wav\n",
            "get 108 of 8625 = /content/drive/My Drive/deep-learning/Project/Code/data/tabla/clip_33.wav\n",
            "get 109 of 8625 = /content/drive/My Drive/deep-learning/Project/Code/data/tabla/clip_27.wav\n",
            "get 110 of 8625 = /content/drive/My Drive/deep-learning/Project/Code/data/tabla/clip_45.wav\n",
            "get 111 of 8625 = /content/drive/My Drive/deep-learning/Project/Code/data/tabla/clip_52.wav\n",
            "get 112 of 8625 = /content/drive/My Drive/deep-learning/Project/Code/data/tabla/clip_38.wav\n",
            "get 113 of 8625 = /content/drive/My Drive/deep-learning/Project/Code/data/tabla/clip_93.wav\n",
            "get 114 of 8625 = /content/drive/My Drive/deep-learning/Project/Code/data/tabla/clip_91.wav\n",
            "get 115 of 8625 = /content/drive/My Drive/deep-learning/Project/Code/data/tabla/clip_71.wav\n",
            "get 116 of 8625 = /content/drive/My Drive/deep-learning/Project/Code/data/tabla/clip_31.wav\n",
            "get 117 of 8625 = /content/drive/My Drive/deep-learning/Project/Code/data/tabla/clip_120.wav\n",
            "get 118 of 8625 = /content/drive/My Drive/deep-learning/Project/Code/data/tabla/clip_124.wav\n",
            "get 119 of 8625 = /content/drive/My Drive/deep-learning/Project/Code/data/tabla/clip_37.wav\n",
            "get 120 of 8625 = /content/drive/My Drive/deep-learning/Project/Code/data/tabla/clip_72.wav\n",
            "get 121 of 8625 = /content/drive/My Drive/deep-learning/Project/Code/data/tabla/clip_112.wav\n",
            "get 122 of 8625 = /content/drive/My Drive/deep-learning/Project/Code/data/tabla/clip_122.wav\n",
            "get 123 of 8625 = /content/drive/My Drive/deep-learning/Project/Code/data/tabla/clip_76.wav\n",
            "get 124 of 8625 = /content/drive/My Drive/deep-learning/Project/Code/data/tabla/clip_126.wav\n",
            "get 125 of 8625 = /content/drive/My Drive/deep-learning/Project/Code/data/tabla/clip_44.wav\n",
            "get 126 of 8625 = /content/drive/My Drive/deep-learning/Project/Code/data/tabla/clip_114.wav\n",
            "get 127 of 8625 = /content/drive/My Drive/deep-learning/Project/Code/data/tabla/clip_106.wav\n",
            "get 128 of 8625 = /content/drive/My Drive/deep-learning/Project/Code/data/tabla/clip_104.wav\n",
            "get 129 of 8625 = /content/drive/My Drive/deep-learning/Project/Code/data/tabla/clip_682.wav\n",
            "get 130 of 8625 = /content/drive/My Drive/deep-learning/Project/Code/data/tabla/clip_349.wav\n",
            "get 131 of 8625 = /content/drive/My Drive/deep-learning/Project/Code/data/tabla/clip_238.wav\n",
            "get 132 of 8625 = /content/drive/My Drive/deep-learning/Project/Code/data/tabla/clip_460.wav\n",
            "get 133 of 8625 = /content/drive/My Drive/deep-learning/Project/Code/data/tabla/clip_571.wav\n",
            "get 134 of 8625 = /content/drive/My Drive/deep-learning/Project/Code/data/tabla/clip_537.wav\n",
            "get 135 of 8625 = /content/drive/My Drive/deep-learning/Project/Code/data/tabla/clip_371.wav\n",
            "get 136 of 8625 = /content/drive/My Drive/deep-learning/Project/Code/data/tabla/clip_888.wav\n",
            "get 137 of 8625 = /content/drive/My Drive/deep-learning/Project/Code/data/tabla/clip_837.wav\n",
            "get 138 of 8625 = /content/drive/My Drive/deep-learning/Project/Code/data/tabla/clip_859.wav\n",
            "get 139 of 8625 = /content/drive/My Drive/deep-learning/Project/Code/data/tabla/clip_792.wav\n",
            "get 140 of 8625 = /content/drive/My Drive/deep-learning/Project/Code/data/tabla/clip_815.wav\n",
            "get 141 of 8625 = /content/drive/My Drive/deep-learning/Project/Code/data/tabla/clip_895.wav\n",
            "get 142 of 8625 = /content/drive/My Drive/deep-learning/Project/Code/data/tabla/clip_282.wav\n",
            "get 143 of 8625 = /content/drive/My Drive/deep-learning/Project/Code/data/tabla/clip_130.wav\n",
            "get 144 of 8625 = /content/drive/My Drive/deep-learning/Project/Code/data/tabla/clip_880.wav\n",
            "get 145 of 8625 = /content/drive/My Drive/deep-learning/Project/Code/data/tabla/clip_515.wav\n",
            "get 146 of 8625 = /content/drive/My Drive/deep-learning/Project/Code/data/tabla/clip_493.wav\n",
            "get 147 of 8625 = /content/drive/My Drive/deep-learning/Project/Code/data/tabla/clip_881.wav\n",
            "get 148 of 8625 = /content/drive/My Drive/deep-learning/Project/Code/data/tabla/clip_878.wav\n",
            "get 149 of 8625 = /content/drive/My Drive/deep-learning/Project/Code/data/tabla/clip_504.wav\n",
            "get 150 of 8625 = /content/drive/My Drive/deep-learning/Project/Code/data/tabla/clip_871.wav\n",
            "get 151 of 8625 = /content/drive/My Drive/deep-learning/Project/Code/data/tabla/clip_877.wav\n",
            "get 152 of 8625 = /content/drive/My Drive/deep-learning/Project/Code/data/tabla/clip_770.wav\n",
            "get 153 of 8625 = /content/drive/My Drive/deep-learning/Project/Code/data/tabla/clip_570.wav\n",
            "get 154 of 8625 = /content/drive/My Drive/deep-learning/Project/Code/data/tabla/clip_139.wav\n",
            "get 155 of 8625 = /content/drive/My Drive/deep-learning/Project/Code/data/tabla/clip_304.wav\n",
            "get 156 of 8625 = /content/drive/My Drive/deep-learning/Project/Code/data/tabla/clip_171.wav\n",
            "get 157 of 8625 = /content/drive/My Drive/deep-learning/Project/Code/data/tabla/clip_260.wav\n",
            "get 158 of 8625 = /content/drive/My Drive/deep-learning/Project/Code/data/tabla/clip_133.wav\n",
            "get 159 of 8625 = /content/drive/My Drive/deep-learning/Project/Code/data/tabla/clip_883.wav\n",
            "get 160 of 8625 = /content/drive/My Drive/deep-learning/Project/Code/data/tabla/clip_887.wav\n",
            "get 161 of 8625 = /content/drive/My Drive/deep-learning/Project/Code/data/tabla/clip_293.wav\n",
            "get 162 of 8625 = /content/drive/My Drive/deep-learning/Project/Code/data/tabla/clip_193.wav\n",
            "get 163 of 8625 = /content/drive/My Drive/deep-learning/Project/Code/data/tabla/clip_875.wav\n",
            "get 164 of 8625 = /content/drive/My Drive/deep-learning/Project/Code/data/tabla/clip_149.wav\n",
            "get 165 of 8625 = /content/drive/My Drive/deep-learning/Project/Code/data/tabla/clip_471.wav\n",
            "get 166 of 8625 = /content/drive/My Drive/deep-learning/Project/Code/data/tabla/clip_337.wav\n",
            "get 167 of 8625 = /content/drive/My Drive/deep-learning/Project/Code/data/tabla/clip_894.wav\n",
            "get 168 of 8625 = /content/drive/My Drive/deep-learning/Project/Code/data/tabla/clip_759.wav\n",
            "get 169 of 8625 = /content/drive/My Drive/deep-learning/Project/Code/data/tabla/clip_886.wav\n",
            "get 170 of 8625 = /content/drive/My Drive/deep-learning/Project/Code/data/tabla/clip_793.wav\n",
            "get 171 of 8625 = /content/drive/My Drive/deep-learning/Project/Code/data/tabla/clip_848.wav\n",
            "get 172 of 8625 = /content/drive/My Drive/deep-learning/Project/Code/data/tabla/clip_781.wav\n",
            "get 173 of 8625 = /content/drive/My Drive/deep-learning/Project/Code/data/tabla/clip_715.wav\n",
            "get 174 of 8625 = /content/drive/My Drive/deep-learning/Project/Code/data/tabla/clip_215.wav\n",
            "get 175 of 8625 = /content/drive/My Drive/deep-learning/Project/Code/data/tabla/clip_360.wav\n",
            "get 176 of 8625 = /content/drive/My Drive/deep-learning/Project/Code/data/tabla/clip_891.wav\n",
            "get 177 of 8625 = /content/drive/My Drive/deep-learning/Project/Code/data/tabla/clip_482.wav\n",
            "get 178 of 8625 = /content/drive/My Drive/deep-learning/Project/Code/data/tabla/clip_135.wav\n",
            "get 179 of 8625 = /content/drive/My Drive/deep-learning/Project/Code/data/tabla/clip_548.wav\n",
            "get 180 of 8625 = /content/drive/My Drive/deep-learning/Project/Code/data/tabla/clip_249.wav\n",
            "get 181 of 8625 = /content/drive/My Drive/deep-learning/Project/Code/data/tabla/clip_136.wav\n",
            "get 182 of 8625 = /content/drive/My Drive/deep-learning/Project/Code/data/tabla/clip_426.wav\n",
            "get 183 of 8625 = /content/drive/My Drive/deep-learning/Project/Code/data/tabla/clip_826.wav\n",
            "get 184 of 8625 = /content/drive/My Drive/deep-learning/Project/Code/data/tabla/clip_315.wav\n",
            "get 185 of 8625 = /content/drive/My Drive/deep-learning/Project/Code/data/tabla/clip_637.wav\n",
            "get 186 of 8625 = /content/drive/My Drive/deep-learning/Project/Code/data/tabla/clip_870.wav\n",
            "get 187 of 8625 = /content/drive/My Drive/deep-learning/Project/Code/data/tabla/clip_896.wav\n",
            "get 188 of 8625 = /content/drive/My Drive/deep-learning/Project/Code/data/tabla/clip_893.wav\n",
            "get 189 of 8625 = /content/drive/My Drive/deep-learning/Project/Code/data/tabla/clip_348.wav\n"
          ]
        },
        {
          "output_type": "error",
          "ename": "KeyboardInterrupt",
          "evalue": "ignored",
          "traceback": [
            "\u001b[0;31m---------------------------------------------------------------------------\u001b[0m",
            "\u001b[0;31mKeyboardInterrupt\u001b[0m                         Traceback (most recent call last)",
            "\u001b[0;32m<ipython-input-24-dcef2a3ed50b>\u001b[0m in \u001b[0;36m<cell line: 6>\u001b[0;34m()\u001b[0m\n\u001b[1;32m      7\u001b[0m     \u001b[0mprint\u001b[0m \u001b[0;34m(\u001b[0m\u001b[0;34m\"get %d of %d = %s\"\u001b[0m\u001b[0;34m%\u001b[0m\u001b[0;34m(\u001b[0m\u001b[0mi\u001b[0m\u001b[0;34m+\u001b[0m\u001b[0;36m1\u001b[0m\u001b[0;34m,\u001b[0m \u001b[0mlen\u001b[0m\u001b[0;34m(\u001b[0m\u001b[0mfiles\u001b[0m\u001b[0;34m)\u001b[0m\u001b[0;34m,\u001b[0m \u001b[0mf\u001b[0m\u001b[0;34m)\u001b[0m\u001b[0;34m)\u001b[0m\u001b[0;34m\u001b[0m\u001b[0;34m\u001b[0m\u001b[0m\n\u001b[1;32m      8\u001b[0m     \u001b[0;32mtry\u001b[0m\u001b[0;34m:\u001b[0m\u001b[0;34m\u001b[0m\u001b[0;34m\u001b[0m\u001b[0m\n\u001b[0;32m----> 9\u001b[0;31m         \u001b[0my\u001b[0m\u001b[0;34m,\u001b[0m \u001b[0msr\u001b[0m \u001b[0;34m=\u001b[0m \u001b[0mlibrosa\u001b[0m\u001b[0;34m.\u001b[0m\u001b[0mload\u001b[0m\u001b[0;34m(\u001b[0m\u001b[0mf\u001b[0m\u001b[0;34m,\u001b[0m \u001b[0msr\u001b[0m\u001b[0;34m=\u001b[0m\u001b[0mfs\u001b[0m\u001b[0;34m)\u001b[0m\u001b[0;34m\u001b[0m\u001b[0;34m\u001b[0m\u001b[0m\n\u001b[0m\u001b[1;32m     10\u001b[0m         \u001b[0my\u001b[0m\u001b[0;34m/=\u001b[0m\u001b[0my\u001b[0m\u001b[0;34m.\u001b[0m\u001b[0mmax\u001b[0m\u001b[0;34m(\u001b[0m\u001b[0;34m)\u001b[0m \u001b[0;31m#Normalize\u001b[0m\u001b[0;34m\u001b[0m\u001b[0;34m\u001b[0m\u001b[0m\n\u001b[1;32m     11\u001b[0m         \u001b[0;32mif\u001b[0m \u001b[0mlen\u001b[0m\u001b[0;34m(\u001b[0m\u001b[0my\u001b[0m\u001b[0;34m)\u001b[0m \u001b[0;34m<\u001b[0m \u001b[0;36m2\u001b[0m\u001b[0;34m:\u001b[0m\u001b[0;34m\u001b[0m\u001b[0;34m\u001b[0m\u001b[0m\n",
            "\u001b[0;32m/usr/local/lib/python3.10/dist-packages/librosa/util/decorators.py\u001b[0m in \u001b[0;36minner_f\u001b[0;34m(*args, **kwargs)\u001b[0m\n\u001b[1;32m     86\u001b[0m             \u001b[0mextra_args\u001b[0m \u001b[0;34m=\u001b[0m \u001b[0mlen\u001b[0m\u001b[0;34m(\u001b[0m\u001b[0margs\u001b[0m\u001b[0;34m)\u001b[0m \u001b[0;34m-\u001b[0m \u001b[0mlen\u001b[0m\u001b[0;34m(\u001b[0m\u001b[0mall_args\u001b[0m\u001b[0;34m)\u001b[0m\u001b[0;34m\u001b[0m\u001b[0;34m\u001b[0m\u001b[0m\n\u001b[1;32m     87\u001b[0m             \u001b[0;32mif\u001b[0m \u001b[0mextra_args\u001b[0m \u001b[0;34m<=\u001b[0m \u001b[0;36m0\u001b[0m\u001b[0;34m:\u001b[0m\u001b[0;34m\u001b[0m\u001b[0;34m\u001b[0m\u001b[0m\n\u001b[0;32m---> 88\u001b[0;31m                 \u001b[0;32mreturn\u001b[0m \u001b[0mf\u001b[0m\u001b[0;34m(\u001b[0m\u001b[0;34m*\u001b[0m\u001b[0margs\u001b[0m\u001b[0;34m,\u001b[0m \u001b[0;34m**\u001b[0m\u001b[0mkwargs\u001b[0m\u001b[0;34m)\u001b[0m\u001b[0;34m\u001b[0m\u001b[0;34m\u001b[0m\u001b[0m\n\u001b[0m\u001b[1;32m     89\u001b[0m \u001b[0;34m\u001b[0m\u001b[0m\n\u001b[1;32m     90\u001b[0m             \u001b[0;31m# extra_args > 0\u001b[0m\u001b[0;34m\u001b[0m\u001b[0;34m\u001b[0m\u001b[0m\n",
            "\u001b[0;32m/usr/local/lib/python3.10/dist-packages/librosa/core/audio.py\u001b[0m in \u001b[0;36mload\u001b[0;34m(path, sr, mono, offset, duration, dtype, res_type)\u001b[0m\n\u001b[1;32m    181\u001b[0m \u001b[0;34m\u001b[0m\u001b[0m\n\u001b[1;32m    182\u001b[0m     \u001b[0;32mif\u001b[0m \u001b[0msr\u001b[0m \u001b[0;32mis\u001b[0m \u001b[0;32mnot\u001b[0m \u001b[0;32mNone\u001b[0m\u001b[0;34m:\u001b[0m\u001b[0;34m\u001b[0m\u001b[0;34m\u001b[0m\u001b[0m\n\u001b[0;32m--> 183\u001b[0;31m         \u001b[0my\u001b[0m \u001b[0;34m=\u001b[0m \u001b[0mresample\u001b[0m\u001b[0;34m(\u001b[0m\u001b[0my\u001b[0m\u001b[0;34m,\u001b[0m \u001b[0morig_sr\u001b[0m\u001b[0;34m=\u001b[0m\u001b[0msr_native\u001b[0m\u001b[0;34m,\u001b[0m \u001b[0mtarget_sr\u001b[0m\u001b[0;34m=\u001b[0m\u001b[0msr\u001b[0m\u001b[0;34m,\u001b[0m \u001b[0mres_type\u001b[0m\u001b[0;34m=\u001b[0m\u001b[0mres_type\u001b[0m\u001b[0;34m)\u001b[0m\u001b[0;34m\u001b[0m\u001b[0;34m\u001b[0m\u001b[0m\n\u001b[0m\u001b[1;32m    184\u001b[0m \u001b[0;34m\u001b[0m\u001b[0m\n\u001b[1;32m    185\u001b[0m     \u001b[0;32melse\u001b[0m\u001b[0;34m:\u001b[0m\u001b[0;34m\u001b[0m\u001b[0;34m\u001b[0m\u001b[0m\n",
            "\u001b[0;32m/usr/local/lib/python3.10/dist-packages/librosa/util/decorators.py\u001b[0m in \u001b[0;36minner_f\u001b[0;34m(*args, **kwargs)\u001b[0m\n\u001b[1;32m     86\u001b[0m             \u001b[0mextra_args\u001b[0m \u001b[0;34m=\u001b[0m \u001b[0mlen\u001b[0m\u001b[0;34m(\u001b[0m\u001b[0margs\u001b[0m\u001b[0;34m)\u001b[0m \u001b[0;34m-\u001b[0m \u001b[0mlen\u001b[0m\u001b[0;34m(\u001b[0m\u001b[0mall_args\u001b[0m\u001b[0;34m)\u001b[0m\u001b[0;34m\u001b[0m\u001b[0;34m\u001b[0m\u001b[0m\n\u001b[1;32m     87\u001b[0m             \u001b[0;32mif\u001b[0m \u001b[0mextra_args\u001b[0m \u001b[0;34m<=\u001b[0m \u001b[0;36m0\u001b[0m\u001b[0;34m:\u001b[0m\u001b[0;34m\u001b[0m\u001b[0;34m\u001b[0m\u001b[0m\n\u001b[0;32m---> 88\u001b[0;31m                 \u001b[0;32mreturn\u001b[0m \u001b[0mf\u001b[0m\u001b[0;34m(\u001b[0m\u001b[0;34m*\u001b[0m\u001b[0margs\u001b[0m\u001b[0;34m,\u001b[0m \u001b[0;34m**\u001b[0m\u001b[0mkwargs\u001b[0m\u001b[0;34m)\u001b[0m\u001b[0;34m\u001b[0m\u001b[0;34m\u001b[0m\u001b[0m\n\u001b[0m\u001b[1;32m     89\u001b[0m \u001b[0;34m\u001b[0m\u001b[0m\n\u001b[1;32m     90\u001b[0m             \u001b[0;31m# extra_args > 0\u001b[0m\u001b[0;34m\u001b[0m\u001b[0;34m\u001b[0m\u001b[0m\n",
            "\u001b[0;32m/usr/local/lib/python3.10/dist-packages/librosa/core/audio.py\u001b[0m in \u001b[0;36mresample\u001b[0;34m(y, orig_sr, target_sr, res_type, fix, scale, **kwargs)\u001b[0m\n\u001b[1;32m    615\u001b[0m         \u001b[0my_hat\u001b[0m \u001b[0;34m=\u001b[0m \u001b[0msoxr\u001b[0m\u001b[0;34m.\u001b[0m\u001b[0mresample\u001b[0m\u001b[0;34m(\u001b[0m\u001b[0my\u001b[0m\u001b[0;34m.\u001b[0m\u001b[0mT\u001b[0m\u001b[0;34m,\u001b[0m \u001b[0morig_sr\u001b[0m\u001b[0;34m,\u001b[0m \u001b[0mtarget_sr\u001b[0m\u001b[0;34m,\u001b[0m \u001b[0mquality\u001b[0m\u001b[0;34m=\u001b[0m\u001b[0mres_type\u001b[0m\u001b[0;34m)\u001b[0m\u001b[0;34m.\u001b[0m\u001b[0mT\u001b[0m\u001b[0;34m\u001b[0m\u001b[0;34m\u001b[0m\u001b[0m\n\u001b[1;32m    616\u001b[0m     \u001b[0;32melse\u001b[0m\u001b[0;34m:\u001b[0m\u001b[0;34m\u001b[0m\u001b[0;34m\u001b[0m\u001b[0m\n\u001b[0;32m--> 617\u001b[0;31m         \u001b[0my_hat\u001b[0m \u001b[0;34m=\u001b[0m \u001b[0mresampy\u001b[0m\u001b[0;34m.\u001b[0m\u001b[0mresample\u001b[0m\u001b[0;34m(\u001b[0m\u001b[0my\u001b[0m\u001b[0;34m,\u001b[0m \u001b[0morig_sr\u001b[0m\u001b[0;34m,\u001b[0m \u001b[0mtarget_sr\u001b[0m\u001b[0;34m,\u001b[0m \u001b[0mfilter\u001b[0m\u001b[0;34m=\u001b[0m\u001b[0mres_type\u001b[0m\u001b[0;34m,\u001b[0m \u001b[0maxis\u001b[0m\u001b[0;34m=\u001b[0m\u001b[0;34m-\u001b[0m\u001b[0;36m1\u001b[0m\u001b[0;34m)\u001b[0m\u001b[0;34m\u001b[0m\u001b[0;34m\u001b[0m\u001b[0m\n\u001b[0m\u001b[1;32m    618\u001b[0m \u001b[0;34m\u001b[0m\u001b[0m\n\u001b[1;32m    619\u001b[0m     \u001b[0;32mif\u001b[0m \u001b[0mfix\u001b[0m\u001b[0;34m:\u001b[0m\u001b[0;34m\u001b[0m\u001b[0;34m\u001b[0m\u001b[0m\n",
            "\u001b[0;32m/usr/local/lib/python3.10/dist-packages/resampy/core.py\u001b[0m in \u001b[0;36mresample\u001b[0;34m(x, sr_orig, sr_new, axis, filter, parallel, **kwargs)\u001b[0m\n\u001b[1;32m    166\u001b[0m             )\n\u001b[1;32m    167\u001b[0m     \u001b[0;32melse\u001b[0m\u001b[0;34m:\u001b[0m\u001b[0;34m\u001b[0m\u001b[0;34m\u001b[0m\u001b[0m\n\u001b[0;32m--> 168\u001b[0;31m         resample_f_s(\n\u001b[0m\u001b[1;32m    169\u001b[0m             \u001b[0mx\u001b[0m\u001b[0;34m.\u001b[0m\u001b[0mswapaxes\u001b[0m\u001b[0;34m(\u001b[0m\u001b[0;34m-\u001b[0m\u001b[0;36m1\u001b[0m\u001b[0;34m,\u001b[0m \u001b[0maxis\u001b[0m\u001b[0;34m)\u001b[0m\u001b[0;34m,\u001b[0m\u001b[0;34m\u001b[0m\u001b[0;34m\u001b[0m\u001b[0m\n\u001b[1;32m    170\u001b[0m             \u001b[0mt_out\u001b[0m\u001b[0;34m,\u001b[0m\u001b[0;34m\u001b[0m\u001b[0;34m\u001b[0m\u001b[0m\n",
            "\u001b[0;32m/usr/local/lib/python3.10/dist-packages/numba/np/ufunc/gufunc.py\u001b[0m in \u001b[0;36m__call__\u001b[0;34m(self, *args, **kwargs)\u001b[0m\n\u001b[1;32m    191\u001b[0m             \u001b[0mself\u001b[0m\u001b[0;34m.\u001b[0m\u001b[0madd\u001b[0m\u001b[0;34m(\u001b[0m\u001b[0msig\u001b[0m\u001b[0;34m)\u001b[0m\u001b[0;34m\u001b[0m\u001b[0;34m\u001b[0m\u001b[0m\n\u001b[1;32m    192\u001b[0m             \u001b[0mself\u001b[0m\u001b[0;34m.\u001b[0m\u001b[0mbuild_ufunc\u001b[0m\u001b[0;34m(\u001b[0m\u001b[0;34m)\u001b[0m\u001b[0;34m\u001b[0m\u001b[0;34m\u001b[0m\u001b[0m\n\u001b[0;32m--> 193\u001b[0;31m         \u001b[0;32mreturn\u001b[0m \u001b[0mself\u001b[0m\u001b[0;34m.\u001b[0m\u001b[0mufunc\u001b[0m\u001b[0;34m(\u001b[0m\u001b[0;34m*\u001b[0m\u001b[0margs\u001b[0m\u001b[0;34m,\u001b[0m \u001b[0;34m**\u001b[0m\u001b[0mkwargs\u001b[0m\u001b[0;34m)\u001b[0m\u001b[0;34m\u001b[0m\u001b[0;34m\u001b[0m\u001b[0m\n\u001b[0m",
            "\u001b[0;31mKeyboardInterrupt\u001b[0m: "
          ]
        }
      ]
    },
    {
      "cell_type": "code",
      "source": [
        "deleted = [907, 1448, 1457, 2030, 2175, 3493, 3959, 3993, 4953, 4987, 6575, 6843, 7059, 7611, 7890, 8442]\n",
        "new_classes_num = []\n",
        "\n",
        "for i in range(len(classes_num)):\n",
        "  if i not in deleted:\n",
        "    new_classes_num.append(classes_num[i])\n",
        "\n",
        "\n",
        "classes_num = np.array(new_classes_num)"
      ],
      "metadata": {
        "id": "gmk9gvPogOJm"
      },
      "execution_count": null,
      "outputs": []
    },
    {
      "cell_type": "code",
      "source": [
        "import pickle\n",
        "data_to_save = {\n",
        "    'feature_vectors': feature_vectors,\n",
        "    'classes_num': classes_num,\n",
        "}\n",
        "\n",
        "# Define the path to save the file on Google Drive\n",
        "save_path = '/content/drive/My Drive/deep-learning/Project/Code/data/knn_saved_data.pkl'\n",
        "\n",
        "# Open the file in binary write mode and save the data\n",
        "with open(save_path, 'wb') as file:\n",
        "    pickle.dump(data_to_save, file)"
      ],
      "metadata": {
        "id": "vugcSUJ2DtBu"
      },
      "execution_count": null,
      "outputs": []
    },
    {
      "cell_type": "code",
      "source": [
        "import pickle\n",
        "save_path = '/content/drive/My Drive/deep-learning/Project/Code/data/knn_saved_data.pkl'\n",
        "\n",
        "# Load data from the saved file\n",
        "with open(save_path, 'rb') as file:\n",
        "    loaded_data = pickle.load(file)\n",
        "\n",
        "# Access the variables from the loaded data\n",
        "feature_vectors = loaded_data['feature_vectors']\n",
        "classes_num = loaded_data['classes_num']"
      ],
      "metadata": {
        "id": "jTnjqdmPED6q"
      },
      "execution_count": null,
      "outputs": []
    },
    {
      "cell_type": "code",
      "metadata": {
        "colab": {
          "base_uri": "https://localhost:8080/"
        },
        "id": "22axR6DVMws3",
        "outputId": "32d66de4-9743-4bc2-8196-cb9607ed4f1e"
      },
      "source": [
        "# Scale features using Standard Scaler\n",
        "scaler = StandardScaler()\n",
        "scaled_feature_vectors = scaler.fit_transform(np.array(feature_vectors))\n",
        "print(\"Feature vectors shape:\",scaled_feature_vectors.shape)"
      ],
      "execution_count": null,
      "outputs": [
        {
          "output_type": "stream",
          "name": "stdout",
          "text": [
            "Feature vectors shape: (8609, 13)\n"
          ]
        }
      ]
    },
    {
      "cell_type": "code",
      "metadata": {
        "id": "2BDNzMGPM0N0"
      },
      "source": [
        "# Create Train and Test Set\n",
        "splitter = StratifiedShuffleSplit(n_splits=1, test_size=testset_size, random_state=0)\n",
        "splits = splitter.split(scaled_feature_vectors, classes_num)\n",
        "for train_index, test_index in splits:\n",
        "    train_set = scaled_feature_vectors[train_index]\n",
        "    test_set = scaled_feature_vectors[test_index]\n",
        "    train_classes = classes_num[train_index]\n",
        "    test_classes = classes_num[test_index]"
      ],
      "execution_count": null,
      "outputs": []
    },
    {
      "cell_type": "code",
      "metadata": {
        "colab": {
          "base_uri": "https://localhost:8080/"
        },
        "id": "qg07XS1wNA73",
        "outputId": "bd965591-ac9a-4c75-e5de-9614598c2814"
      },
      "source": [
        "# Check Set Shapes\n",
        "print(\"train_set shape:\",train_set.shape)\n",
        "print(\"test_set shape:\",test_set.shape)\n",
        "print(\"train_classes shape:\",train_classes.shape)\n",
        "print(\"test_classes shape:\",test_classes.shape)"
      ],
      "execution_count": null,
      "outputs": [
        {
          "output_type": "stream",
          "name": "stdout",
          "text": [
            "train_set shape: (6456, 13)\n",
            "test_set shape: (2153, 13)\n",
            "train_classes shape: (6456,)\n",
            "test_classes shape: (2153,)\n"
          ]
        }
      ]
    },
    {
      "cell_type": "code",
      "metadata": {
        "id": "m21dwEFENFPI"
      },
      "source": [
        "# KNN Classifier\n",
        "n_neighbors=1\n",
        "model_knn = KNeighborsClassifier(n_neighbors=n_neighbors)"
      ],
      "execution_count": null,
      "outputs": []
    },
    {
      "cell_type": "code",
      "metadata": {
        "id": "8CyEU-iNNMLy"
      },
      "source": [
        "# kNN\n",
        "model_knn.fit(train_set, train_classes);"
      ],
      "execution_count": null,
      "outputs": []
    },
    {
      "cell_type": "code",
      "metadata": {
        "id": "mTddwOorNPld"
      },
      "source": [
        "# Predict using the Test Set\n",
        "predicted_labels = model_knn.predict(test_set)"
      ],
      "execution_count": null,
      "outputs": []
    },
    {
      "cell_type": "code",
      "metadata": {
        "colab": {
          "base_uri": "https://localhost:8080/"
        },
        "id": "rikjbmhTNTwL",
        "outputId": "86570eaf-7f87-4668-dabd-d6f4d83a8d90"
      },
      "source": [
        "#Evaluation\n",
        "# Recall - the ability of the classifier to find all the positive samples\n",
        "print(\"Recall: \", recall_score(test_classes, predicted_labels,average=None))\n",
        "\n",
        "# Precision - The precision is intuitively the ability of the classifier not to\n",
        "#label as positive a sample that is negative\n",
        "print(\"Precision: \", precision_score(test_classes, predicted_labels,average=None))\n",
        "\n",
        "# F1-Score - The F1 score can be interpreted as a weighted average of the precision\n",
        "#and recall\n",
        "print(\"F1-Score: \", f1_score(test_classes, predicted_labels, average=None))\n",
        "\n",
        "# Accuracy - the number of correctly classified samples\n",
        "print(\"Accuracy: %.2f  ,\" % accuracy_score(test_classes, predicted_labels,normalize=True), accuracy_score(test_classes, predicted_labels,normalize=False) )\n",
        "print(\"Number of samples:\",test_classes.shape[0])"
      ],
      "execution_count": null,
      "outputs": [
        {
          "output_type": "stream",
          "name": "stdout",
          "text": [
            "Recall:  [0.64230769 0.08333333 0.23275862 0.33888889 0.50990099 0.15340909\n",
            " 1.         0.98913043 1.         0.06521739 0.19354839 0.43111111\n",
            " 0.96       0.19259259 0.08547009]\n",
            "Precision:  [0.64478764 0.1011236  0.1862069  0.305      0.52284264 0.16363636\n",
            " 0.96470588 0.98378378 0.98245614 0.06870229 0.21621622 0.45971564\n",
            " 1.         0.18055556 0.07936508]\n",
            "F1-Score:  [0.64354528 0.09137056 0.20689655 0.32105263 0.51629073 0.15835777\n",
            " 0.98203593 0.98644986 0.99115044 0.0669145  0.20425532 0.44495413\n",
            " 0.97959184 0.18637993 0.08230453]\n",
            "Accuracy: 0.43  , 928\n",
            "Number of samples: 2153\n"
          ]
        }
      ]
    },
    {
      "cell_type": "markdown",
      "metadata": {
        "id": "6rJjvPGRP0IP"
      },
      "source": [
        "# Precision - The precision is intuitively the ability of the classifier not to label as positive a sample that is negative\n",
        "# Recall - the ability of the classifier to find all the positive samples\n",
        "# F1-Score - The F1 score can be interpreted as a weighted average of the precision and recall"
      ]
    },
    {
      "cell_type": "code",
      "metadata": {
        "colab": {
          "base_uri": "https://localhost:8080/"
        },
        "id": "wBYFb_cjPuUg",
        "outputId": "82a72bfd-dafd-4d7d-a674-8ce4fada2ef4"
      },
      "source": [
        "print(classification_report(test_classes, predicted_labels))"
      ],
      "execution_count": null,
      "outputs": [
        {
          "output_type": "stream",
          "name": "stdout",
          "text": [
            "              precision    recall  f1-score   support\n",
            "\n",
            "           0       0.64      0.64      0.64       260\n",
            "           1       0.10      0.08      0.09       108\n",
            "           2       0.19      0.23      0.21       116\n",
            "           3       0.30      0.34      0.32       180\n",
            "           4       0.52      0.51      0.52       202\n",
            "           5       0.16      0.15      0.16       176\n",
            "           6       0.96      1.00      0.98        82\n",
            "           7       0.98      0.99      0.99       184\n",
            "           8       0.98      1.00      0.99        56\n",
            "           9       0.07      0.07      0.07       138\n",
            "          10       0.22      0.19      0.20       124\n",
            "          11       0.46      0.43      0.44       225\n",
            "          12       1.00      0.96      0.98        50\n",
            "          13       0.18      0.19      0.19       135\n",
            "          14       0.08      0.09      0.08       117\n",
            "\n",
            "    accuracy                           0.43      2153\n",
            "   macro avg       0.46      0.46      0.46      2153\n",
            "weighted avg       0.43      0.43      0.43      2153\n",
            "\n"
          ]
        }
      ]
    },
    {
      "cell_type": "code",
      "metadata": {
        "id": "8Aijf5sTgD94"
      },
      "source": [
        "# Compute confusion matrix\n",
        "cnf_matrix = confusion_matrix(test_classes, predicted_labels)\n",
        "np.set_printoptions(precision=2)"
      ],
      "execution_count": null,
      "outputs": []
    },
    {
      "cell_type": "code",
      "metadata": {
        "colab": {
          "base_uri": "https://localhost:8080/",
          "height": 245
        },
        "id": "h53LlbqIgH2H",
        "outputId": "60631ca5-3740-415a-e675-dced4c8f34f0"
      },
      "source": [
        "# Plot non-normalized confusion matrix\n",
        "plt.figure(figsize=(18,9))\n",
        "plot_confusion_matrix(cnf_matrix, classes=labelencoder.classes_,\n",
        "                      title='Confusion matrix, without normalization')"
      ],
      "execution_count": null,
      "outputs": [
        {
          "output_type": "error",
          "ename": "NameError",
          "evalue": "ignored",
          "traceback": [
            "\u001b[0;31m---------------------------------------------------------------------------\u001b[0m",
            "\u001b[0;31mNameError\u001b[0m                                 Traceback (most recent call last)",
            "\u001b[0;32m<ipython-input-41-8629280610ed>\u001b[0m in \u001b[0;36m<cell line: 3>\u001b[0;34m()\u001b[0m\n\u001b[1;32m      1\u001b[0m \u001b[0;31m# Plot non-normalized confusion matrix\u001b[0m\u001b[0;34m\u001b[0m\u001b[0;34m\u001b[0m\u001b[0m\n\u001b[1;32m      2\u001b[0m \u001b[0mplt\u001b[0m\u001b[0;34m.\u001b[0m\u001b[0mfigure\u001b[0m\u001b[0;34m(\u001b[0m\u001b[0mfigsize\u001b[0m\u001b[0;34m=\u001b[0m\u001b[0;34m(\u001b[0m\u001b[0;36m18\u001b[0m\u001b[0;34m,\u001b[0m\u001b[0;36m9\u001b[0m\u001b[0;34m)\u001b[0m\u001b[0;34m)\u001b[0m\u001b[0;34m\u001b[0m\u001b[0;34m\u001b[0m\u001b[0m\n\u001b[0;32m----> 3\u001b[0;31m plot_confusion_matrix(cnf_matrix, classes=labelencoder.classes_,\n\u001b[0m\u001b[1;32m      4\u001b[0m                       title='Confusion matrix, without normalization')\n",
            "\u001b[0;31mNameError\u001b[0m: name 'plot_confusion_matrix' is not defined"
          ]
        },
        {
          "output_type": "display_data",
          "data": {
            "text/plain": [
              "<Figure size 1800x900 with 0 Axes>"
            ]
          },
          "metadata": {}
        }
      ]
    },
    {
      "cell_type": "code",
      "metadata": {
        "id": "dELTdL0_fw9j"
      },
      "source": [
        "# Find wrong predicted samples indexes\n",
        "#wrong_predictions = [i for i, (e1, e2) in enumerate(zip(test_classes, predicted_labels)) if e1 != e2]\n",
        "wrong_predictions = [i for i, (e1, e2) in enumerate(zip(predicted_labels,test_classes)) if e1 != e2]"
      ],
      "execution_count": null,
      "outputs": []
    },
    {
      "cell_type": "code",
      "metadata": {
        "colab": {
          "base_uri": "https://localhost:8080/"
        },
        "id": "VsveJIrCf1g8",
        "outputId": "bc182af7-d5a2-491b-bed9-a15e85e1e9fd"
      },
      "source": [
        "# Find wrong predicted audio files\n",
        "print(np.array(labels)[test_index[wrong_predictions]])\n",
        "print(predicted_labels[wrong_predictions].T)\n",
        "print(labelencoder.inverse_transform(predicted_labels[wrong_predictions]))\n",
        "print(np.array(files)[test_index[wrong_predictions]])"
      ],
      "execution_count": null,
      "outputs": [
        {
          "output_type": "stream",
          "name": "stdout",
          "text": [
            "['sitarbansuri' 'tablaharmonium' 'sitarharmonium' ...\n",
            " 'sitartablaharmonium' 'sitar' 'sitarbansuri']\n",
            "[ 0 11  9 ...  5  5  0]\n",
            "['bansuri' 'tabla' 'sitartablaharmonium' ... 'sitarharmonium'\n",
            " 'sitarharmonium' 'bansuri']\n",
            "['/content/drive/My Drive/deep-learning/Project/Code/data/sitarbansuri/clip_118.wav'\n",
            " '/content/drive/My Drive/deep-learning/Project/Code/data/tablaharmonium/clip_439.wav'\n",
            " '/content/drive/My Drive/deep-learning/Project/Code/data/sitarharmonium/clip_56.wav'\n",
            " ...\n",
            " '/content/drive/My Drive/deep-learning/Project/Code/data/sitartablaharmonium/clip_348.wav'\n",
            " '/content/drive/My Drive/deep-learning/Project/Code/data/sitar/clip_494.wav'\n",
            " '/content/drive/My Drive/deep-learning/Project/Code/data/sitarbansuri/clip_688.wav']\n"
          ]
        }
      ]
    },
    {
      "cell_type": "code",
      "metadata": {
        "id": "d6nA-Y9nP2_P"
      },
      "source": [
        "#choosing a k value\n",
        "\n",
        "error_rate = []\n",
        "\n",
        "for i in range(1,20):\n",
        "\n",
        "    knn = KNeighborsClassifier(n_neighbors=i)\n",
        "    knn.fit(train_set, train_classes)\n",
        "    pred_i = knn.predict(test_set)\n",
        "    error_rate.append(np.mean(pred_i != test_classes))\n",
        "    # wherever the pred value is not matching the test class value it will find the mean of that which will give the error rate."
      ],
      "execution_count": null,
      "outputs": []
    },
    {
      "cell_type": "code",
      "metadata": {
        "colab": {
          "base_uri": "https://localhost:8080/",
          "height": 581
        },
        "id": "492arBAWP_mw",
        "outputId": "0d31b3f1-979d-4887-f018-3e083ba3ebf3"
      },
      "source": [
        "plt.figure(figsize=(10,6))\n",
        "plt.plot(range(1,20),error_rate,color='blue', linestyle='dashed', marker='o',\n",
        "         markerfacecolor='red', markersize=10)\n",
        "plt.title('Error Rate vs. K Value')\n",
        "plt.xlabel('K')\n",
        "plt.ylabel('Error Rate')"
      ],
      "execution_count": null,
      "outputs": [
        {
          "output_type": "execute_result",
          "data": {
            "text/plain": [
              "Text(0, 0.5, 'Error Rate')"
            ]
          },
          "metadata": {},
          "execution_count": 45
        },
        {
          "output_type": "display_data",
          "data": {
            "text/plain": [
              "<Figure size 1000x600 with 1 Axes>"
            ],
            "image/png": "[encoded data removed]"
          },
          "metadata": {}
        }
      ]
    },
    {
      "cell_type": "markdown",
      "metadata": {
        "id": "iHADW1W4QObR"
      },
      "source": [
        "From the plot we see that the least stable error rate occurs around k =7 hence we will use k = 7 as the best model"
      ]
    },
    {
      "cell_type": "code",
      "metadata": {
        "id": "nKL0E05JQRmn"
      },
      "source": [
        "knn = KNeighborsClassifier(n_neighbors=7)\n",
        "knn.fit(train_set, train_classes)\n",
        "# Predict using the Test Set\n",
        "predicted_labels = knn.predict(test_set)"
      ],
      "execution_count": null,
      "outputs": []
    },
    {
      "cell_type": "code",
      "metadata": {
        "colab": {
          "base_uri": "https://localhost:8080/"
        },
        "id": "dF2Hv8rTQYjq",
        "outputId": "169c4e40-83b8-43d5-d47e-1e52499b9d48"
      },
      "source": [
        "# Accuracy - the number of correctly classified samples\n",
        "print(\"Accuracy: %.2f  ,\" % accuracy_score(test_classes, predicted_labels,normalize=True), accuracy_score(test_classes, predicted_labels,normalize=False) )\n",
        "print(\"Number of samples:\",test_classes.shape[0])"
      ],
      "execution_count": null,
      "outputs": [
        {
          "output_type": "stream",
          "name": "stdout",
          "text": [
            "Accuracy: 0.52  , 1111\n",
            "Number of samples: 2153\n"
          ]
        }
      ]
    },
    {
      "cell_type": "code",
      "metadata": {
        "id": "PvZCVuMegYnw",
        "colab": {
          "base_uri": "https://localhost:8080/"
        },
        "outputId": "35b58c38-aa19-4290-8c70-6832165644df"
      },
      "source": [
        "#Evaluation\n",
        "# Recall - the ability of the classifier to find all the positive samples\n",
        "print(\"Recall: \", recall_score(test_classes, predicted_labels,average=None))\n",
        "\n",
        "# Precision - The precision is intuitively the ability of the classifier not to\n",
        "#label as positive a sample that is negative\n",
        "print(\"Precision: \", precision_score(test_classes, predicted_labels,average=None))\n",
        "\n",
        "# F1-Score - The F1 score can be interpreted as a weighted average of the precision\n",
        "#and recall\n",
        "print(\"F1-Score: \", f1_score(test_classes, predicted_labels, average=None))\n",
        "\n",
        "# Accuracy - the number of correctly classified samples\n",
        "print(\"Accuracy: %.2f  ,\" % accuracy_score(test_classes, predicted_labels,normalize=True), accuracy_score(test_classes, predicted_labels,normalize=False) )\n",
        "print(\"Number of samples:\",test_classes.shape[0])"
      ],
      "execution_count": null,
      "outputs": [
        {
          "output_type": "stream",
          "name": "stdout",
          "text": [
            "Recall:  [0.91 0.16 0.18 0.49 0.54 0.27 1.   0.98 0.96 0.1  0.12 0.72 0.94 0.19\n",
            " 0.09]\n",
            "Precision:  [0.72 0.13 0.17 0.38 0.81 0.3  0.98 0.97 1.   0.13 0.17 0.46 1.   0.36\n",
            " 0.18]\n",
            "F1-Score:  [0.81 0.14 0.18 0.43 0.65 0.28 0.99 0.97 0.98 0.11 0.14 0.56 0.97 0.25\n",
            " 0.12]\n",
            "Accuracy: 0.52  , 1111\n",
            "Number of samples: 2153\n"
          ]
        }
      ]
    },
    {
      "cell_type": "code",
      "metadata": {
        "colab": {
          "base_uri": "https://localhost:8080/"
        },
        "id": "fkBuPuLFgQ4u",
        "outputId": "0ac28ac9-123a-49a2-a486-97ea87ca9620"
      },
      "source": [
        "print(classification_report(test_classes, predicted_labels))"
      ],
      "execution_count": null,
      "outputs": [
        {
          "output_type": "stream",
          "name": "stdout",
          "text": [
            "              precision    recall  f1-score   support\n",
            "\n",
            "           0       0.72      0.91      0.81       260\n",
            "           1       0.13      0.16      0.14       108\n",
            "           2       0.17      0.18      0.18       116\n",
            "           3       0.38      0.49      0.43       180\n",
            "           4       0.81      0.54      0.65       202\n",
            "           5       0.30      0.27      0.28       176\n",
            "           6       0.98      1.00      0.99        82\n",
            "           7       0.97      0.98      0.97       184\n",
            "           8       1.00      0.96      0.98        56\n",
            "           9       0.13      0.10      0.11       138\n",
            "          10       0.17      0.12      0.14       124\n",
            "          11       0.46      0.72      0.56       225\n",
            "          12       1.00      0.94      0.97        50\n",
            "          13       0.36      0.19      0.25       135\n",
            "          14       0.18      0.09      0.12       117\n",
            "\n",
            "    accuracy                           0.52      2153\n",
            "   macro avg       0.52      0.51      0.51      2153\n",
            "weighted avg       0.50      0.52      0.50      2153\n",
            "\n"
          ]
        }
      ]
    },
    {
      "cell_type": "code",
      "metadata": {
        "id": "9Q2j7qYbNX4D"
      },
      "source": [
        "# Compute confusion matrix\n",
        "cnf_matrix = confusion_matrix(test_classes, predicted_labels)\n",
        "np.set_printoptions(precision=2)"
      ],
      "execution_count": null,
      "outputs": []
    },
    {
      "cell_type": "code",
      "metadata": {
        "colab": {
          "base_uri": "https://localhost:8080/",
          "height": 671
        },
        "id": "rwRBSdKPZBuN",
        "outputId": "3dd7664b-59d2-4c0e-f7be-53f3c97bc553"
      },
      "source": [
        "# Plot non-normalized confusion matrix\n",
        "plt.figure(figsize=(18,9))\n",
        "plot_confusion_matrix(cnf_matrix, classes=labelencoder.classes_,\n",
        "                      title='Confusion matrix, without normalization')"
      ],
      "execution_count": null,
      "outputs": [
        {
          "output_type": "display_data",
          "data": {
            "image/png": "[encoded data removed]",
            "text/plain": [
              "<Figure size 1296x648 with 2 Axes>"
            ]
          },
          "metadata": {
            "tags": [],
            "needs_background": "light"
          }
        }
      ]
    },
    {
      "cell_type": "code",
      "metadata": {
        "id": "uEFhsFQRNzmf"
      },
      "source": [
        "# Find wrong predicted samples indexes\n",
        "#wrong_predictions = [i for i, (e1, e2) in enumerate(zip(test_classes, predicted_labels)) if e1 != e2]\n",
        "wrong_predictions = [i for i, (e1, e2) in enumerate(zip(predicted_labels,test_classes)) if e1 != e2]"
      ],
      "execution_count": null,
      "outputs": []
    },
    {
      "cell_type": "code",
      "metadata": {
        "colab": {
          "base_uri": "https://localhost:8080/"
        },
        "id": "LL6sPie0N2yq",
        "outputId": "921e88bb-1670-4007-a268-bd055752daba"
      },
      "source": [
        "# Find wrong predicted audio files\n",
        "print(np.array(labels)[test_index[wrong_predictions]])\n",
        "print(predicted_labels[wrong_predictions].T)\n",
        "print(labelencoder.inverse_transform(predicted_labels[wrong_predictions]))\n",
        "print(np.array(files)[test_index[wrong_predictions]])"
      ],
      "execution_count": null,
      "outputs": [
        {
          "output_type": "stream",
          "text": [
            "['oboe' 'viola' 'flute' 'viola' 'other']\n",
            "[4 4 5 0 1]\n",
            "['trumpet' 'trumpet' 'viola' 'cello' 'flute']\n",
            "['./BasicsMusicalInstrumClassifi/audio/london_phill_dataset_multi/oboe/oboe_As3_05_mezzo-forte_normal.mp3'\n",
            " './BasicsMusicalInstrumClassifi/audio/london_phill_dataset_multi/viola/viola_A4_1_fortissimo_snap-pizz.mp3'\n",
            " './BasicsMusicalInstrumClassifi/audio/london_phill_dataset_multi/flute/flute_Gs5_025_piano_normal.mp3'\n",
            " './BasicsMusicalInstrumClassifi/audio/london_phill_dataset_multi/viola/viola_Gs3_025_mezzo-piano_arco-normal.mp3'\n",
            " './BasicsMusicalInstrumClassifi/audio/london_phill_dataset_multi/sax/saxophone_Ds4_025_mezzo-forte_normal.mp3']\n"
          ],
          "name": "stdout"
        }
      ]
    }
  ]
}